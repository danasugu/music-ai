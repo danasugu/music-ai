{
  "metadata": {
    "language_info": {
      "codemirror_mode": {
        "name": "python",
        "version": 3
      },
      "file_extension": ".py",
      "mimetype": "text/x-python",
      "name": "python",
      "nbconvert_exporter": "python",
      "pygments_lexer": "ipython3",
      "version": "3.8"
    },
    "kernelspec": {
      "name": "python",
      "display_name": "Python (Pyodide)",
      "language": "python"
    }
  },
  "nbformat_minor": 4,
  "nbformat": 4,
  "cells": [
    {
      "cell_type": "code",
      "source": "import pandas as pd\nfrom sklearn.tree import DecisionTreeClassifier\n# import joblib \nfrom sklearn import tree\n\nmusic_data = pd.read_csv('music.csv')\nX = music_data.drop(columns=['genre'])\ny = music_data['genre']\n\nmodel = DecisionTreeClassifier()\nmodel.fit(X,y)\n\ntree.export_graphviz(model, out_file='music-recommender.dot', \n                    feature_names=['age', 'gender'],\n                    class_names=sorted(y.unique()),\n                    label='all',\n                    rounded=True,\n                    filled=True)\n\n# joblib.dump(model, 'music-recommender.joblib')\n# jb.load('music-recommender.joblib')\n            \n# predictions = model.predict([[21,1]])",
      "metadata": {
        "trusted": true
      },
      "execution_count": 46,
      "outputs": []
    },
    {
      "cell_type": "code",
      "source": "",
      "metadata": {},
      "execution_count": null,
      "outputs": []
    }
  ]
}